{
 "cells": [
  {
   "cell_type": "code",
   "execution_count": null,
   "id": "f7d3c2d5",
   "metadata": {},
   "outputs": [],
   "source": [
    "import os\n",
    "import math\n",
    "import time\n",
    "import socket\n",
    "import datetime\n",
    "import numpy as np\n",
    "import logging as log\n",
    "import multiprocessing as mp\n",
    "import re\n",
    "root=\"/home/hjamil/Documents/files_bash/\"\n",
    "file_names=\"FILE0\"\n",
    "chunk_size=1024*1024\n",
    "offset=0\n",
    "to_send = file_size - offset\n",
    "file_size=os.path.getsize(root+file_names)\n",
    "sock = socket.socket()\n",
    "sock.settimeout(3)\n",
    "sock.connect((\"128.205.223.105\",50021))\n",
    "filename = root + file_names\n",
    "msg = filename + \",\" + str(int(offset))\n",
    "msg += \",\" + str(int(to_send)) + \"\\n\"\n",
    "try:\n",
    "    sock.send(msg.encode())\n",
    "    print(\"starting {0}, {1}\".format(file_names, filename))\n",
    "except:\n",
    "    print(\"Process {process_id} failed to send file message\")\n",
    "\n",
    "while (to_send>0):\n",
    "    try:\n",
    "        block_size = int(min(chunk_size, to_send))\n",
    "        sent = sock.sendfile(file=filename, offset=int(offset), count=block_size)\n",
    "    except:\n",
    "        sent=0\n",
    "        print(\"socket error\")"
   ]
  }
 ],
 "metadata": {
  "kernelspec": {
   "display_name": "Python 3 (ipykernel)",
   "language": "python",
   "name": "python3"
  },
  "language_info": {
   "codemirror_mode": {
    "name": "ipython",
    "version": 3
   },
   "file_extension": ".py",
   "mimetype": "text/x-python",
   "name": "python",
   "nbconvert_exporter": "python",
   "pygments_lexer": "ipython3",
   "version": "3.10.5"
  }
 },
 "nbformat": 4,
 "nbformat_minor": 5
}
